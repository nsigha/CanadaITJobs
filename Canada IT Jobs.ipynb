{
 "cells": [
  {
   "cell_type": "code",
   "execution_count": 2,
   "id": "5b344c89",
   "metadata": {},
   "outputs": [],
   "source": [
    "import requests\n",
    "from bs4 import BeautifulSoup\n",
    "import pandas as pd\n",
    "from requests.adapters import HTTPAdapter\n",
    "from urllib3.util.retry import Retry"
   ]
  },
  {
   "cell_type": "code",
   "execution_count": 3,
   "id": "82f7f925",
   "metadata": {},
   "outputs": [],
   "source": [
    "session = requests.Session()\n",
    "retry = Retry(connect=3, backoff_factor=0.5)\n",
    "adapter = HTTPAdapter(max_retries=retry)\n",
    "session.mount('http://', adapter)\n",
    "session.mount('https://', adapter)"
   ]
  },
  {
   "cell_type": "code",
   "execution_count": 4,
   "id": "94306833",
   "metadata": {},
   "outputs": [],
   "source": [
    "import json\n",
    "import numpy as np\n",
    "from pandas import json_normalize"
   ]
  },
  {
   "cell_type": "code",
   "execution_count": 5,
   "id": "167516eb",
   "metadata": {},
   "outputs": [],
   "source": [
    "import nltk\n",
    "import spacy\n",
    "from spacy.matcher import PhraseMatcher\n",
    "from nltk.corpus import stopwords\n",
    "from sklearn.naive_bayes import MultinomialNB\n",
    "from sklearn.feature_extraction.text import TfidfVectorizer\n",
    "from sklearn.model_selection import train_test_split\n",
    "from sklearn.metrics import accuracy_score, classification_report, confusion_matrix\n",
    "\n",
    "import matplotlib.pyplot as plt\n",
    "%matplotlib inline\n",
    "from textblob import Word"
   ]
  },
  {
   "cell_type": "code",
   "execution_count": 6,
   "id": "b5e30d4a",
   "metadata": {},
   "outputs": [],
   "source": [
    "import time"
   ]
  },
  {
   "cell_type": "code",
   "execution_count": 6,
   "id": "f3852734",
   "metadata": {},
   "outputs": [],
   "source": [
    "#nltk.download('wordnet')"
   ]
  },
  {
   "cell_type": "code",
   "execution_count": 7,
   "id": "213f3f7e",
   "metadata": {},
   "outputs": [],
   "source": [
    "#pip install -U textblob"
   ]
  },
  {
   "cell_type": "code",
   "execution_count": 8,
   "id": "96182555",
   "metadata": {},
   "outputs": [],
   "source": [
    "#pip install -U scikit-learn"
   ]
  },
  {
   "cell_type": "code",
   "execution_count": 9,
   "id": "0034198d",
   "metadata": {
    "scrolled": true
   },
   "outputs": [],
   "source": [
    "#pip install nltk"
   ]
  },
  {
   "cell_type": "code",
   "execution_count": 10,
   "id": "ab929672",
   "metadata": {},
   "outputs": [],
   "source": [
    "#pip install spacy"
   ]
  },
  {
   "cell_type": "code",
   "execution_count": 6,
   "id": "008f3a15",
   "metadata": {},
   "outputs": [],
   "source": [
    "url = \"https://www.linkedin.com/jobs-guest/jobs/api/seeMoreJobPostings/search?https://www.linkedin.com/jobs/search/?currentJobId=3572903359&f_I=96%2C4&f_TPR=r2592000&geoId=101174742&location=Canada&refresh=true&sortBy=R&start={}\""
   ]
  },
  {
   "cell_type": "code",
   "execution_count": 7,
   "id": "6e6e91f6",
   "metadata": {},
   "outputs": [],
   "source": [
    "num_of_loops = 20"
   ]
  },
  {
   "cell_type": "code",
   "execution_count": null,
   "id": "8d35fa43",
   "metadata": {
    "scrolled": true
   },
   "outputs": [],
   "source": [
    "jobID_list = []\n",
    "for i in range(num_of_loops):\n",
    "    r = requests.get(url.format(i*25))\n",
    "    print(i)\n",
    "    soup = BeautifulSoup(r.content,'html.parser')\n",
    "    alljobs_on_this_page=soup.find_all(\"li\")\n",
    "    for x in range(0,len(alljobs_on_this_page)):\n",
    "        jobID = alljobs_on_this_page[x].find(\"div\",{\"class\":\"base-card\"}).get('data-entity-urn').split(\":\")[3]\n",
    "        jobID_list.append(jobID)"
   ]
  },
  {
   "cell_type": "code",
   "execution_count": null,
   "id": "8dc9680a",
   "metadata": {
    "scrolled": true
   },
   "outputs": [],
   "source": [
    "job_url='https://www.linkedin.com/jobs-guest/jobs/api/jobPosting/{}'\n",
    "\n",
    "details = {}\n",
    "\n",
    "job_detail = []\n",
    "\n",
    "for job in range(0,len(jobID_list)):\n",
    "\n",
    "    r_job = requests.get(job_url.format(jobID_list[job]))\n",
    "    soup = BeautifulSoup(r_job.content,'html.parser')\n",
    "    \n",
    "    print(job)\n",
    "\n",
    "    try:\n",
    "        details[\"Company\"] = soup.find(\"div\",{\"class\":\"top-card-layout__card\"}).find(\"a\").find(\"img\").get('alt')\n",
    "    except:\n",
    "        details[\"Company\"] = None\n",
    "\n",
    "    try:\n",
    "        details[\"Job_Title\"] = soup.find(\"div\",{\"class\":\"top-card-layout__entity-info\"}).find(\"a\").text.strip()\n",
    "    except:\n",
    "        details[\"Job_Title\"] = None\n",
    "\n",
    "    try:\n",
    "        details[\"Level\"] = soup.find(\"ul\",{\"class\":\"description__job-criteria-list\"}).find(\"li\").text.replace(\"Seniority level\",\"\").strip()\n",
    "    except:\n",
    "        details[\"Level\"] = None\n",
    "        \n",
    "    try:\n",
    "        details[\"Location\"] = soup.find(\"span\",{\"class\":\"topcard__flavor topcard__flavor--bullet\"}).text.strip()\n",
    "    except:\n",
    "        details[\"Location\"] = None\n",
    "        \n",
    "    try:\n",
    "        details[\"Description\"] = soup.find(\"div\",{\"class\":\"show-more-less-html__markup show-more-less-html__markup--clamp-after-5\"}).text.strip()\n",
    "    except:\n",
    "        details[\"Description\"] = None\n",
    "\n",
    "\n",
    "    job_detail.append(details)\n",
    "    \n",
    "    details={}\n"
   ]
  },
  {
   "cell_type": "code",
   "execution_count": 10,
   "id": "044a34da",
   "metadata": {},
   "outputs": [],
   "source": [
    "job_data_2 = pd.DataFrame(job_detail)"
   ]
  },
  {
   "cell_type": "code",
   "execution_count": 11,
   "id": "689be68b",
   "metadata": {},
   "outputs": [
    {
     "data": {
      "text/html": [
       "<div>\n",
       "<style scoped>\n",
       "    .dataframe tbody tr th:only-of-type {\n",
       "        vertical-align: middle;\n",
       "    }\n",
       "\n",
       "    .dataframe tbody tr th {\n",
       "        vertical-align: top;\n",
       "    }\n",
       "\n",
       "    .dataframe thead th {\n",
       "        text-align: right;\n",
       "    }\n",
       "</style>\n",
       "<table border=\"1\" class=\"dataframe\">\n",
       "  <thead>\n",
       "    <tr style=\"text-align: right;\">\n",
       "      <th></th>\n",
       "      <th>Company</th>\n",
       "      <th>Job_Title</th>\n",
       "      <th>Level</th>\n",
       "      <th>Location</th>\n",
       "      <th>Description</th>\n",
       "    </tr>\n",
       "  </thead>\n",
       "  <tbody>\n",
       "    <tr>\n",
       "      <th>0</th>\n",
       "      <td>Tech Foorti</td>\n",
       "      <td>Virtual Office Assistant / Entry level (Remote)</td>\n",
       "      <td>Entry level</td>\n",
       "      <td>Northeast Calgary, Alberta, Canada</td>\n",
       "      <td>We are seeking a proactive and detail-oriented...</td>\n",
       "    </tr>\n",
       "    <tr>\n",
       "      <th>1</th>\n",
       "      <td>Valsoft Corporation</td>\n",
       "      <td>Investment Associate, Private Equity</td>\n",
       "      <td>Entry level</td>\n",
       "      <td>Montréal-Ouest, Quebec, Canada</td>\n",
       "      <td>Valsoft Corporation is currently looking for a...</td>\n",
       "    </tr>\n",
       "    <tr>\n",
       "      <th>2</th>\n",
       "      <td>Tech Foorti</td>\n",
       "      <td>Human Resources Assistant / Full time (Remote)</td>\n",
       "      <td>Entry level</td>\n",
       "      <td>Edmonton, Alberta, Canada</td>\n",
       "      <td>We are seeking a highly motivated and detail-o...</td>\n",
       "    </tr>\n",
       "    <tr>\n",
       "      <th>3</th>\n",
       "      <td>Tech Foorti</td>\n",
       "      <td>Administrative Executive Assistant / Full time...</td>\n",
       "      <td>Mid-Senior level</td>\n",
       "      <td>Northeast Calgary, Alberta, Canada</td>\n",
       "      <td>Our organization is seeking a motivated and de...</td>\n",
       "    </tr>\n",
       "    <tr>\n",
       "      <th>4</th>\n",
       "      <td>HP</td>\n",
       "      <td>Business Analyst - Graduate</td>\n",
       "      <td>Entry level</td>\n",
       "      <td>Plummer Additional, Ontario, Canada</td>\n",
       "      <td>This Business analyst will be part of EMEA Ind...</td>\n",
       "    </tr>\n",
       "  </tbody>\n",
       "</table>\n",
       "</div>"
      ],
      "text/plain": [
       "               Company                                          Job_Title  \\\n",
       "0          Tech Foorti    Virtual Office Assistant / Entry level (Remote)   \n",
       "1  Valsoft Corporation               Investment Associate, Private Equity   \n",
       "2          Tech Foorti     Human Resources Assistant / Full time (Remote)   \n",
       "3          Tech Foorti  Administrative Executive Assistant / Full time...   \n",
       "4                   HP                        Business Analyst - Graduate   \n",
       "\n",
       "              Level                             Location  \\\n",
       "0       Entry level   Northeast Calgary, Alberta, Canada   \n",
       "1       Entry level       Montréal-Ouest, Quebec, Canada   \n",
       "2       Entry level            Edmonton, Alberta, Canada   \n",
       "3  Mid-Senior level   Northeast Calgary, Alberta, Canada   \n",
       "4       Entry level  Plummer Additional, Ontario, Canada   \n",
       "\n",
       "                                         Description  \n",
       "0  We are seeking a proactive and detail-oriented...  \n",
       "1  Valsoft Corporation is currently looking for a...  \n",
       "2  We are seeking a highly motivated and detail-o...  \n",
       "3  Our organization is seeking a motivated and de...  \n",
       "4  This Business analyst will be part of EMEA Ind...  "
      ]
     },
     "execution_count": 11,
     "metadata": {},
     "output_type": "execute_result"
    }
   ],
   "source": [
    "job_data_2.head(5)"
   ]
  },
  {
   "cell_type": "code",
   "execution_count": 12,
   "id": "764054b1",
   "metadata": {},
   "outputs": [
    {
     "data": {
      "text/html": [
       "<div>\n",
       "<style scoped>\n",
       "    .dataframe tbody tr th:only-of-type {\n",
       "        vertical-align: middle;\n",
       "    }\n",
       "\n",
       "    .dataframe tbody tr th {\n",
       "        vertical-align: top;\n",
       "    }\n",
       "\n",
       "    .dataframe thead th {\n",
       "        text-align: right;\n",
       "    }\n",
       "</style>\n",
       "<table border=\"1\" class=\"dataframe\">\n",
       "  <thead>\n",
       "    <tr style=\"text-align: right;\">\n",
       "      <th></th>\n",
       "      <th>Company</th>\n",
       "      <th>Job_Title</th>\n",
       "      <th>Level</th>\n",
       "      <th>Location</th>\n",
       "      <th>Description</th>\n",
       "    </tr>\n",
       "  </thead>\n",
       "  <tbody>\n",
       "    <tr>\n",
       "      <th>495</th>\n",
       "      <td>Procom</td>\n",
       "      <td>Scrum Master</td>\n",
       "      <td>Mid-Senior level</td>\n",
       "      <td>Edmonton, Alberta, Canada</td>\n",
       "      <td>On behalf of our client, Procom is seeking a S...</td>\n",
       "    </tr>\n",
       "    <tr>\n",
       "      <th>496</th>\n",
       "      <td>Zortech Solutions</td>\n",
       "      <td>Product Owner</td>\n",
       "      <td>Director</td>\n",
       "      <td>Mississauga, Ontario, Canada</td>\n",
       "      <td>Mississauga, CanadaPermanent (Full-time)JD for...</td>\n",
       "    </tr>\n",
       "    <tr>\n",
       "      <th>497</th>\n",
       "      <td>Amaris Consulting</td>\n",
       "      <td>Pharmaceutical - Data Scientist</td>\n",
       "      <td>Entry level</td>\n",
       "      <td>Toronto, Ontario, Canada</td>\n",
       "      <td>Who are we?Amaris Consulting is an independent...</td>\n",
       "    </tr>\n",
       "    <tr>\n",
       "      <th>498</th>\n",
       "      <td>Zortech Solutions</td>\n",
       "      <td>Mobile QA Test Analyst</td>\n",
       "      <td>Entry level</td>\n",
       "      <td>Calgary, Alberta, Canada</td>\n",
       "      <td>Role: Mobile QA Test Analyst| Job Location: Ca...</td>\n",
       "    </tr>\n",
       "    <tr>\n",
       "      <th>499</th>\n",
       "      <td>GIRO</td>\n",
       "      <td>Security Expert Analyst</td>\n",
       "      <td>Mid-Senior level</td>\n",
       "      <td>Montréal-Ouest, Quebec, Canada</td>\n",
       "      <td>Company DescriptionOur specialty is to optimiz...</td>\n",
       "    </tr>\n",
       "  </tbody>\n",
       "</table>\n",
       "</div>"
      ],
      "text/plain": [
       "               Company                        Job_Title             Level  \\\n",
       "495             Procom                     Scrum Master  Mid-Senior level   \n",
       "496  Zortech Solutions                    Product Owner          Director   \n",
       "497  Amaris Consulting  Pharmaceutical - Data Scientist       Entry level   \n",
       "498  Zortech Solutions           Mobile QA Test Analyst       Entry level   \n",
       "499               GIRO          Security Expert Analyst  Mid-Senior level   \n",
       "\n",
       "                           Location  \\\n",
       "495       Edmonton, Alberta, Canada   \n",
       "496    Mississauga, Ontario, Canada   \n",
       "497        Toronto, Ontario, Canada   \n",
       "498        Calgary, Alberta, Canada   \n",
       "499  Montréal-Ouest, Quebec, Canada   \n",
       "\n",
       "                                           Description  \n",
       "495  On behalf of our client, Procom is seeking a S...  \n",
       "496  Mississauga, CanadaPermanent (Full-time)JD for...  \n",
       "497  Who are we?Amaris Consulting is an independent...  \n",
       "498  Role: Mobile QA Test Analyst| Job Location: Ca...  \n",
       "499  Company DescriptionOur specialty is to optimiz...  "
      ]
     },
     "execution_count": 12,
     "metadata": {},
     "output_type": "execute_result"
    }
   ],
   "source": [
    "job_data_2.tail(5)"
   ]
  },
  {
   "cell_type": "code",
   "execution_count": 13,
   "id": "7772dadb",
   "metadata": {},
   "outputs": [
    {
     "data": {
      "text/plain": [
       "Company        0\n",
       "Job_Title      0\n",
       "Level          0\n",
       "Location       0\n",
       "Description    0\n",
       "dtype: int64"
      ]
     },
     "execution_count": 13,
     "metadata": {},
     "output_type": "execute_result"
    }
   ],
   "source": [
    "job_data_2.apply(lambda x: sum(x.isnull()))"
   ]
  },
  {
   "cell_type": "code",
   "execution_count": 14,
   "id": "b8356da8",
   "metadata": {},
   "outputs": [
    {
     "data": {
      "text/plain": [
       "(500, 5)"
      ]
     },
     "execution_count": 14,
     "metadata": {},
     "output_type": "execute_result"
    }
   ],
   "source": [
    "job_data_2.shape"
   ]
  },
  {
   "cell_type": "code",
   "execution_count": 15,
   "id": "896e73dd",
   "metadata": {},
   "outputs": [],
   "source": [
    "#job_data_2.to_csv(\"DataJob_2.csv\", sep='\\t', encoding='utf-8')"
   ]
  },
  {
   "cell_type": "code",
   "execution_count": 31,
   "id": "fb8d2638",
   "metadata": {},
   "outputs": [],
   "source": [
    "#job_data.to_csv(\"DataJob.csv\", sep='\\t', encoding='utf-8')"
   ]
  },
  {
   "cell_type": "code",
   "execution_count": 11,
   "id": "1d5f7bc9",
   "metadata": {},
   "outputs": [],
   "source": [
    "#job_data = pd.read_csv(\"DataJob.csv\", sep='\\t')"
   ]
  },
  {
   "cell_type": "code",
   "execution_count": 15,
   "id": "2cd59d12",
   "metadata": {},
   "outputs": [
    {
     "name": "stderr",
     "output_type": "stream",
     "text": [
      "C:\\Users\\nsigh\\AppData\\Local\\Temp\\ipykernel_8044\\151618536.py:4: FutureWarning: The default value of regex will change from True to False in a future version.\n",
      "  job_data_2['Description'] = job_data_2['Description'].str.replace('[^\\w\\s]',' ')\n",
      "C:\\Users\\nsigh\\AppData\\Local\\Temp\\ipykernel_8044\\151618536.py:6: FutureWarning: The default value of regex will change from True to False in a future version.\n",
      "  job_data_2['Description'] = job_data_2['Description'].str.replace('\\d+', '')\n"
     ]
    }
   ],
   "source": [
    "## Lower case\n",
    "job_data_2['Description']  = job_data_2['Description'].apply(lambda x: \" \".join(x.lower()for x in x.split()))\n",
    "# remove tabulation and punctuation\n",
    "job_data_2['Description'] = job_data_2['Description'].str.replace('[^\\w\\s]',' ')\n",
    "## digits\n",
    "job_data_2['Description'] = job_data_2['Description'].str.replace('\\d+', '')\n",
    "\n",
    "#remove stop words\n",
    "stop = stopwords.words('english')\n",
    "job_data_2['Description'] = job_data_2['Description'].apply(lambda x: \" \".join(x for x in x.split() if x not in stop))\n",
    "\n",
    "## lemmatization\n",
    "job_data_2['Description'] = job_data_2['Description'].apply(lambda x: \" \".join([Word(word).lemmatize() for word in x.split()]))"
   ]
  },
  {
   "cell_type": "code",
   "execution_count": 49,
   "id": "e4c95740",
   "metadata": {},
   "outputs": [],
   "source": [
    "auth_endpoint = \"https://auth.emsicloud.com/connect/token\" # auth endpoint\n",
    "\n",
    "client_id = \"tzrymwzgtqci6dj6\" # replace 'your_client_id' with your client id from your api invite email\n",
    "client_secret = \"9s07z0Sc\" # replace 'your_client_secret' with your client secret from your api invite email\n",
    "scope = \"emsi_open\" # ok to leave as is, this is the scope we will used\n",
    "\n",
    "payload = \"client_id=\" + client_id + \"&client_secret=\" + client_secret + \"&grant_type=client_credentials&scope=\" + scope # set credentials and scope\n",
    "headers = {'content-type': 'application/x-www-form-urlencoded'} # headers for the response\n",
    "access_token = json.loads((requests.request(\"POST\", auth_endpoint, data=payload, headers=headers)).text)['access_token'] # grabs request's text and loads as JSON, then pulls the access token from that"
   ]
  },
  {
   "cell_type": "code",
   "execution_count": 24,
   "id": "cce44984",
   "metadata": {},
   "outputs": [],
   "source": [
    "all_skills_endpoint = \"https://emsiservices.com/skills/versions/latest/skills\" # List of all skills endpoint\n",
    "auth = \"Authorization: Bearer \" + access_token # Auth string including access token from above\n",
    "headers = {'authorization': auth} # headers\n",
    "querystring = {\"typeIds\":\"ST1,ST2\",\"fields\":\"id,name,type\"}\n",
    "response = requests.request(\"GET\", all_skills_endpoint, headers=headers, params=querystring) # response\n",
    "response = response.json()['data'] # the data\n",
    "    \n",
    "all_skills_df = pd.DataFrame(json_normalize(response)); # Where response is a JSON object drilled down to the level of 'data' key"
   ]
  },
  {
   "cell_type": "code",
   "execution_count": 25,
   "id": "eb4040f2",
   "metadata": {},
   "outputs": [
    {
     "data": {
      "text/html": [
       "<div>\n",
       "<style scoped>\n",
       "    .dataframe tbody tr th:only-of-type {\n",
       "        vertical-align: middle;\n",
       "    }\n",
       "\n",
       "    .dataframe tbody tr th {\n",
       "        vertical-align: top;\n",
       "    }\n",
       "\n",
       "    .dataframe thead th {\n",
       "        text-align: right;\n",
       "    }\n",
       "</style>\n",
       "<table border=\"1\" class=\"dataframe\">\n",
       "  <thead>\n",
       "    <tr style=\"text-align: right;\">\n",
       "      <th></th>\n",
       "      <th>id</th>\n",
       "      <th>name</th>\n",
       "      <th>type.id</th>\n",
       "      <th>type.name</th>\n",
       "    </tr>\n",
       "  </thead>\n",
       "  <tbody>\n",
       "    <tr>\n",
       "      <th>0</th>\n",
       "      <td>KS126XS6CQCFGC3NG79X</td>\n",
       "      <td>.NET Assemblies</td>\n",
       "      <td>ST1</td>\n",
       "      <td>Specialized Skill</td>\n",
       "    </tr>\n",
       "    <tr>\n",
       "      <th>1</th>\n",
       "      <td>ES50D03AC9CFC1A0BC93</td>\n",
       "      <td>.NET Development</td>\n",
       "      <td>ST1</td>\n",
       "      <td>Specialized Skill</td>\n",
       "    </tr>\n",
       "    <tr>\n",
       "      <th>2</th>\n",
       "      <td>KS1200B62W5ZF38RJ7TD</td>\n",
       "      <td>.NET Framework</td>\n",
       "      <td>ST1</td>\n",
       "      <td>Specialized Skill</td>\n",
       "    </tr>\n",
       "    <tr>\n",
       "      <th>3</th>\n",
       "      <td>KS126XW78QJCF4TRV2X7</td>\n",
       "      <td>.NET Framework 1</td>\n",
       "      <td>ST1</td>\n",
       "      <td>Specialized Skill</td>\n",
       "    </tr>\n",
       "    <tr>\n",
       "      <th>4</th>\n",
       "      <td>KS126XY68BNKXSBSLPYS</td>\n",
       "      <td>.NET Framework 3</td>\n",
       "      <td>ST1</td>\n",
       "      <td>Specialized Skill</td>\n",
       "    </tr>\n",
       "  </tbody>\n",
       "</table>\n",
       "</div>"
      ],
      "text/plain": [
       "                     id              name type.id          type.name\n",
       "0  KS126XS6CQCFGC3NG79X   .NET Assemblies     ST1  Specialized Skill\n",
       "1  ES50D03AC9CFC1A0BC93  .NET Development     ST1  Specialized Skill\n",
       "2  KS1200B62W5ZF38RJ7TD    .NET Framework     ST1  Specialized Skill\n",
       "3  KS126XW78QJCF4TRV2X7  .NET Framework 1     ST1  Specialized Skill\n",
       "4  KS126XY68BNKXSBSLPYS  .NET Framework 3     ST1  Specialized Skill"
      ]
     },
     "execution_count": 25,
     "metadata": {},
     "output_type": "execute_result"
    }
   ],
   "source": [
    "all_skills_df.head()"
   ]
  },
  {
   "cell_type": "code",
   "execution_count": 26,
   "id": "d8eea8b7",
   "metadata": {},
   "outputs": [
    {
     "data": {
      "text/plain": [
       "id           0\n",
       "name         0\n",
       "type.id      0\n",
       "type.name    0\n",
       "dtype: int64"
      ]
     },
     "execution_count": 26,
     "metadata": {},
     "output_type": "execute_result"
    }
   ],
   "source": [
    "all_skills_df.apply(lambda x: sum(x.isnull()))"
   ]
  },
  {
   "cell_type": "code",
   "execution_count": 27,
   "id": "49a9c1f4",
   "metadata": {},
   "outputs": [
    {
     "data": {
      "text/plain": [
       "<Axes: >"
      ]
     },
     "execution_count": 27,
     "metadata": {},
     "output_type": "execute_result"
    },
    {
     "data": {
      "image/png": "[encoded data removed]",
      "text/plain": [
       "<Figure size 640x480 with 1 Axes>"
      ]
     },
     "metadata": {},
     "output_type": "display_data"
    }
   ],
   "source": [
    "all_skills_df[\"type.id\"].hist()"
   ]
  },
  {
   "cell_type": "code",
   "execution_count": 77,
   "id": "6dc8f503",
   "metadata": {},
   "outputs": [],
   "source": [
    "# Extract skills from a document\n",
    "def extract_skills_from_document(text, confidence_interval):\n",
    "    skills_from_doc_endpoint = \"https://emsiservices.com/skills/versions/latest/extract\"\n",
    "    payload = \"{ \\\"text\\\": \\\"... \" + text + \" ...\\\", \\\"confidenceThreshold\\\": \" + confidence_interval + \" }\"\n",
    "\n",
    "    headers = {\n",
    "        'authorization': \"Bearer \" + access_token,\n",
    "        'content-type': \"application/json\"\n",
    "      }\n",
    "\n",
    "    response = requests.request(\"POST\", skills_from_doc_endpoint, data=payload.encode('utf-8'), headers=headers)\n",
    "\n",
    "    skills_found_in_document_df = pd.DataFrame(json_normalize(response.json()['data']));# Where response is a JSON object drilled down to the level of 'data' key\n",
    "    \n",
    "    skills = ', '.join(skills_found_in_document_df['skill.name'])\n",
    "    \n",
    "    return skills"
   ]
  },
  {
   "cell_type": "code",
   "execution_count": 90,
   "id": "ca9b56fc",
   "metadata": {
    "scrolled": true
   },
   "outputs": [
    {
     "data": {
      "text/html": [
       "<div>\n",
       "<style scoped>\n",
       "    .dataframe tbody tr th:only-of-type {\n",
       "        vertical-align: middle;\n",
       "    }\n",
       "\n",
       "    .dataframe tbody tr th {\n",
       "        vertical-align: top;\n",
       "    }\n",
       "\n",
       "    .dataframe thead th {\n",
       "        text-align: right;\n",
       "    }\n",
       "</style>\n",
       "<table border=\"1\" class=\"dataframe\">\n",
       "  <thead>\n",
       "    <tr style=\"text-align: right;\">\n",
       "      <th></th>\n",
       "      <th>Company</th>\n",
       "      <th>Job_Title</th>\n",
       "      <th>Level</th>\n",
       "      <th>Location</th>\n",
       "      <th>Description</th>\n",
       "    </tr>\n",
       "  </thead>\n",
       "  <tbody>\n",
       "    <tr>\n",
       "      <th>0</th>\n",
       "      <td>Tech Foorti</td>\n",
       "      <td>Virtual Office Assistant / Entry level (Remote)</td>\n",
       "      <td>Entry level</td>\n",
       "      <td>Northeast Calgary, Alberta, Canada</td>\n",
       "      <td>seeking proactive detail oriented individual j...</td>\n",
       "    </tr>\n",
       "    <tr>\n",
       "      <th>1</th>\n",
       "      <td>Valsoft Corporation</td>\n",
       "      <td>Investment Associate, Private Equity</td>\n",
       "      <td>Entry level</td>\n",
       "      <td>Montréal-Ouest, Quebec, Canada</td>\n",
       "      <td>valsoft corporation currently looking investme...</td>\n",
       "    </tr>\n",
       "    <tr>\n",
       "      <th>2</th>\n",
       "      <td>Tech Foorti</td>\n",
       "      <td>Human Resources Assistant / Full time (Remote)</td>\n",
       "      <td>Entry level</td>\n",
       "      <td>Edmonton, Alberta, Canada</td>\n",
       "      <td>seeking highly motivated detail oriented human...</td>\n",
       "    </tr>\n",
       "    <tr>\n",
       "      <th>3</th>\n",
       "      <td>Tech Foorti</td>\n",
       "      <td>Administrative Executive Assistant / Full time...</td>\n",
       "      <td>Mid-Senior level</td>\n",
       "      <td>Northeast Calgary, Alberta, Canada</td>\n",
       "      <td>organization seeking motivated detail oriented...</td>\n",
       "    </tr>\n",
       "    <tr>\n",
       "      <th>4</th>\n",
       "      <td>HP</td>\n",
       "      <td>Business Analyst - Graduate</td>\n",
       "      <td>Entry level</td>\n",
       "      <td>Plummer Additional, Ontario, Canada</td>\n",
       "      <td>business analyst part emea industrial supply t...</td>\n",
       "    </tr>\n",
       "  </tbody>\n",
       "</table>\n",
       "</div>"
      ],
      "text/plain": [
       "               Company                                          Job_Title  \\\n",
       "0          Tech Foorti    Virtual Office Assistant / Entry level (Remote)   \n",
       "1  Valsoft Corporation               Investment Associate, Private Equity   \n",
       "2          Tech Foorti     Human Resources Assistant / Full time (Remote)   \n",
       "3          Tech Foorti  Administrative Executive Assistant / Full time...   \n",
       "4                   HP                        Business Analyst - Graduate   \n",
       "\n",
       "              Level                             Location  \\\n",
       "0       Entry level   Northeast Calgary, Alberta, Canada   \n",
       "1       Entry level       Montréal-Ouest, Quebec, Canada   \n",
       "2       Entry level            Edmonton, Alberta, Canada   \n",
       "3  Mid-Senior level   Northeast Calgary, Alberta, Canada   \n",
       "4       Entry level  Plummer Additional, Ontario, Canada   \n",
       "\n",
       "                                         Description  \n",
       "0  seeking proactive detail oriented individual j...  \n",
       "1  valsoft corporation currently looking investme...  \n",
       "2  seeking highly motivated detail oriented human...  \n",
       "3  organization seeking motivated detail oriented...  \n",
       "4  business analyst part emea industrial supply t...  "
      ]
     },
     "execution_count": 90,
     "metadata": {},
     "output_type": "execute_result"
    }
   ],
   "source": [
    "job_data_2.head()"
   ]
  },
  {
   "cell_type": "code",
   "execution_count": 89,
   "id": "786dcc54",
   "metadata": {},
   "outputs": [],
   "source": [
    "job_data_2 = job_data_2.drop(['Job_Skills'], axis=1)\n",
    "job_data_2.drop_duplicates(inplace = True)"
   ]
  },
  {
   "cell_type": "code",
   "execution_count": 85,
   "id": "3ef1d924",
   "metadata": {},
   "outputs": [
    {
     "data": {
      "text/plain": [
       "415"
      ]
     },
     "execution_count": 85,
     "metadata": {},
     "output_type": "execute_result"
    }
   ],
   "source": [
    "job_data_2.shape[0]"
   ]
  },
  {
   "cell_type": "code",
   "execution_count": null,
   "id": "78a2e50a",
   "metadata": {
    "scrolled": true
   },
   "outputs": [],
   "source": [
    "skills"
   ]
  },
  {
   "cell_type": "code",
   "execution_count": 63,
   "id": "b85cc571",
   "metadata": {},
   "outputs": [],
   "source": [
    "skills_pd = pd.DataFrame(columns=['skill.name','skill.type.name'])"
   ]
  },
  {
   "cell_type": "code",
   "execution_count": 117,
   "id": "04d6d58c",
   "metadata": {},
   "outputs": [],
   "source": [
    "text = ', '.join(job_data_2['Description'][405:415])\n",
    "confidence_interval = \"0.7\""
   ]
  },
  {
   "cell_type": "code",
   "execution_count": 118,
   "id": "6b612521",
   "metadata": {
    "scrolled": true
   },
   "outputs": [
    {
     "name": "stderr",
     "output_type": "stream",
     "text": [
      "C:\\Users\\nsigh\\AppData\\Local\\Temp\\ipykernel_19716\\2438235273.py:13: FutureWarning: The frame.append method is deprecated and will be removed from pandas in a future version. Use pandas.concat instead.\n",
      "  skills_pd = skills_pd.append(skills_found_in_document_df[[\"skill.name\",\"skill.type.name\"]],ignore_index = True)\n"
     ]
    }
   ],
   "source": [
    "skills_from_doc_endpoint = \"https://emsiservices.com/skills/versions/latest/extract\"\n",
    "payload = \"{ \\\"text\\\": \\\"... \" + text + \" ...\\\", \\\"confidenceThreshold\\\": \" + confidence_interval + \" }\"\n",
    "\n",
    "headers = {\n",
    "    'authorization': \"Bearer \" + access_token,\n",
    "    'content-type': \"application/json\"\n",
    "    }\n",
    "\n",
    "response = requests.request(\"POST\", skills_from_doc_endpoint, data=payload.encode('utf-8'), headers=headers)\n",
    "\n",
    "skills_found_in_document_df = pd.DataFrame(json_normalize(response.json()['data']));# Where response is a JSON object drilled down to the level of 'data' key\n",
    "    \n",
    "skills_pd = skills_pd.append(skills_found_in_document_df[[\"skill.name\",\"skill.type.name\"]],ignore_index = True)\n",
    "    \n",
    "#skills += ', '.join(skills_found_in_document_df['skill.name'])"
   ]
  },
  {
   "cell_type": "code",
   "execution_count": 64,
   "id": "cea65f93",
   "metadata": {},
   "outputs": [
    {
     "name": "stderr",
     "output_type": "stream",
     "text": [
      "C:\\Users\\nsigh\\AppData\\Local\\Temp\\ipykernel_19716\\1644623930.py:1: FutureWarning: The frame.append method is deprecated and will be removed from pandas in a future version. Use pandas.concat instead.\n",
      "  skills_pd = skills_pd.append(skills_found_in_document_df[[\"skill.name\",\"skill.type.name\"]],ignore_index = True)\n"
     ]
    }
   ],
   "source": [
    "#skills_pd = skills_pd.append(skills_found_in_document_df[[\"skill.name\",\"skill.type.name\"]],ignore_index = True)"
   ]
  },
  {
   "cell_type": "code",
   "execution_count": 119,
   "id": "6f194270",
   "metadata": {},
   "outputs": [
    {
     "data": {
      "text/plain": [
       "(5367, 2)"
      ]
     },
     "execution_count": 119,
     "metadata": {},
     "output_type": "execute_result"
    }
   ],
   "source": [
    "skills_pd.shape"
   ]
  },
  {
   "cell_type": "code",
   "execution_count": 73,
   "id": "75a0e8f7",
   "metadata": {},
   "outputs": [
    {
     "data": {
      "text/plain": [
       "{'errors': [{'detail': 'Request size too large',\n",
       "   'status': 413,\n",
       "   'title': 'Payload Too Large'}]}"
      ]
     },
     "execution_count": 73,
     "metadata": {},
     "output_type": "execute_result"
    }
   ],
   "source": [
    "response.json()"
   ]
  },
  {
   "cell_type": "code",
   "execution_count": null,
   "id": "b019baf6",
   "metadata": {},
   "outputs": [],
   "source": []
  },
  {
   "cell_type": "code",
   "execution_count": 36,
   "id": "249b400e",
   "metadata": {},
   "outputs": [],
   "source": [
    "for i in range(0,job_data_2.shape[0]/20):\n",
    "    i = 0\n",
    "    n = 20\n",
    "    text = ', '.join(job_data_2['Description'][i:n])\n",
    "    confidence_interval = 0.7"
   ]
  },
  {
   "cell_type": "code",
   "execution_count": 51,
   "id": "cae5b6cd",
   "metadata": {},
   "outputs": [
    {
     "name": "stdout",
     "output_type": "stream",
     "text": [
      "^C\n",
      "Note: you may need to restart the kernel to use updated packages.\n"
     ]
    }
   ],
   "source": [
    "#pip install aspose-words"
   ]
  },
  {
   "cell_type": "code",
   "execution_count": 37,
   "id": "5642c538",
   "metadata": {},
   "outputs": [],
   "source": [
    "with open(\"Text3.txt\", \"w\", encoding=\"utf-8\") as f:\n",
    "    f.write(skills)\n",
    "    f.close()"
   ]
  },
  {
   "cell_type": "code",
   "execution_count": 7,
   "id": "9e2f9ec0",
   "metadata": {},
   "outputs": [],
   "source": [
    "job_data_2 = pd.read_csv(\"Job_data.csv\", sep='\\t')"
   ]
  },
  {
   "cell_type": "code",
   "execution_count": null,
   "id": "cfa5d18a",
   "metadata": {},
   "outputs": [],
   "source": [
    "skills"
   ]
  },
  {
   "cell_type": "code",
   "execution_count": 39,
   "id": "bee9e209",
   "metadata": {},
   "outputs": [],
   "source": [
    "skills_list = list(skills.split(\", \"))"
   ]
  },
  {
   "cell_type": "code",
   "execution_count": 43,
   "id": "64f768e3",
   "metadata": {},
   "outputs": [],
   "source": [
    "skills_df = pd.DataFrame({'skills':skills_list})"
   ]
  },
  {
   "cell_type": "code",
   "execution_count": 120,
   "id": "311d36d8",
   "metadata": {},
   "outputs": [],
   "source": [
    "skills_pd.to_csv(\"List_Skills.csv\", sep='\\t', encoding='utf-8')"
   ]
  },
  {
   "cell_type": "code",
   "execution_count": 60,
   "id": "5803636f",
   "metadata": {},
   "outputs": [],
   "source": [
    "import aspose.words as aw\n",
    "\n",
    "#292 pages/docs\n",
    "#Each page is about 4KB\n",
    "#I need to narrow it down to about 30-40 docs\n",
    "#And about 40-50KB\n",
    "\n",
    "doc = aw.Document(\"Text2.txt\")\n",
    "    \n",
    "for page in range(0, 40):\n",
    "    n = 10\n",
    "    i = 0\n",
    "    extractedPage = doc.extract_pages(i, n)\n",
    "    extractedPage.save(f\"Output_{page + 1}.txt\")\n",
    "    n += 10\n",
    "    i += 10"
   ]
  },
  {
   "cell_type": "code",
   "execution_count": 19,
   "id": "3195403c",
   "metadata": {},
   "outputs": [],
   "source": [
    "# Looking up the ID of a skill based on the name, or whether it contains something\n",
    "# Could be useful in coming up with a search function for the end user\n",
    "\n",
    "def find_id_by_skill_name(name_substring):\n",
    "    all_skills_df = extract_skills_list() # pull all skills into a DF\n",
    "\n",
    "    return all_skills_df[all_skills_df['name'].str.contains(name_substring)] # Filter that DF by substring"
   ]
  },
  {
   "cell_type": "code",
   "execution_count": 10,
   "id": "4a339daa",
   "metadata": {},
   "outputs": [
    {
     "data": {
      "text/html": [
       "<div>\n",
       "<style scoped>\n",
       "    .dataframe tbody tr th:only-of-type {\n",
       "        vertical-align: middle;\n",
       "    }\n",
       "\n",
       "    .dataframe tbody tr th {\n",
       "        vertical-align: top;\n",
       "    }\n",
       "\n",
       "    .dataframe thead th {\n",
       "        text-align: right;\n",
       "    }\n",
       "</style>\n",
       "<table border=\"1\" class=\"dataframe\">\n",
       "  <thead>\n",
       "    <tr style=\"text-align: right;\">\n",
       "      <th></th>\n",
       "      <th>id</th>\n",
       "      <th>infoUrl</th>\n",
       "      <th>name</th>\n",
       "      <th>type.id</th>\n",
       "      <th>type.name</th>\n",
       "    </tr>\n",
       "  </thead>\n",
       "  <tbody>\n",
       "    <tr>\n",
       "      <th>0</th>\n",
       "      <td>KS1200364C9C1LK3V5Q1</td>\n",
       "      <td>https://skills.emsidata.com/skills/KS1200364C9...</td>\n",
       "      <td>C (Programming Language)</td>\n",
       "      <td>ST1</td>\n",
       "      <td>Specialized Skill</td>\n",
       "    </tr>\n",
       "    <tr>\n",
       "      <th>1</th>\n",
       "      <td>KS1219N6Z3XQ19V0HSKR</td>\n",
       "      <td>https://skills.emsidata.com/skills/KS1219N6Z3X...</td>\n",
       "      <td>C# (Programming Language)</td>\n",
       "      <td>ST1</td>\n",
       "      <td>Specialized Skill</td>\n",
       "    </tr>\n",
       "    <tr>\n",
       "      <th>2</th>\n",
       "      <td>KS1219W70LY1GXZDSKW5</td>\n",
       "      <td>https://skills.emsidata.com/skills/KS1219W70LY...</td>\n",
       "      <td>C++ (Programming Language)</td>\n",
       "      <td>ST1</td>\n",
       "      <td>Specialized Skill</td>\n",
       "    </tr>\n",
       "    <tr>\n",
       "      <th>3</th>\n",
       "      <td>KS7LO8P3MXB93R3C9RWL</td>\n",
       "      <td>https://skills.emsidata.com/skills/KS7LO8P3MXB...</td>\n",
       "      <td>Data Science</td>\n",
       "      <td>ST1</td>\n",
       "      <td>Specialized Skill</td>\n",
       "    </tr>\n",
       "    <tr>\n",
       "      <th>4</th>\n",
       "      <td>KS122VT6S2JJ5C5D80NF</td>\n",
       "      <td>https://skills.emsidata.com/skills/KS122VT6S2J...</td>\n",
       "      <td>Linux</td>\n",
       "      <td>ST1</td>\n",
       "      <td>Specialized Skill</td>\n",
       "    </tr>\n",
       "    <tr>\n",
       "      <th>5</th>\n",
       "      <td>KS1261Z68KSKR1X31KS3</td>\n",
       "      <td>https://skills.emsidata.com/skills/KS1261Z68KS...</td>\n",
       "      <td>Machine Learning</td>\n",
       "      <td>ST1</td>\n",
       "      <td>Specialized Skill</td>\n",
       "    </tr>\n",
       "    <tr>\n",
       "      <th>6</th>\n",
       "      <td>KS123GK6Z30G7QTFCY4N</td>\n",
       "      <td>https://skills.emsidata.com/skills/KS123GK6Z30...</td>\n",
       "      <td>Perl (Programming Language)</td>\n",
       "      <td>ST1</td>\n",
       "      <td>Specialized Skill</td>\n",
       "    </tr>\n",
       "    <tr>\n",
       "      <th>7</th>\n",
       "      <td>KS124DQ6JX0NX9DBFDM8</td>\n",
       "      <td>https://skills.emsidata.com/skills/KS124DQ6JX0...</td>\n",
       "      <td>R (Programming Language)</td>\n",
       "      <td>ST1</td>\n",
       "      <td>Specialized Skill</td>\n",
       "    </tr>\n",
       "    <tr>\n",
       "      <th>8</th>\n",
       "      <td>KS440W865GC4VRBW6LJP</td>\n",
       "      <td>https://skills.emsidata.com/skills/KS440W865GC...</td>\n",
       "      <td>SQL (Programming Language)</td>\n",
       "      <td>ST1</td>\n",
       "      <td>Specialized Skill</td>\n",
       "    </tr>\n",
       "    <tr>\n",
       "      <th>9</th>\n",
       "      <td>KS7G0C36YW29VS8KPC05</td>\n",
       "      <td>https://skills.emsidata.com/skills/KS7G0C36YW2...</td>\n",
       "      <td>Scripting</td>\n",
       "      <td>ST1</td>\n",
       "      <td>Specialized Skill</td>\n",
       "    </tr>\n",
       "  </tbody>\n",
       "</table>\n",
       "</div>"
      ],
      "text/plain": [
       "                     id                                            infoUrl  \\\n",
       "0  KS1200364C9C1LK3V5Q1  https://skills.emsidata.com/skills/KS1200364C9...   \n",
       "1  KS1219N6Z3XQ19V0HSKR  https://skills.emsidata.com/skills/KS1219N6Z3X...   \n",
       "2  KS1219W70LY1GXZDSKW5  https://skills.emsidata.com/skills/KS1219W70LY...   \n",
       "3  KS7LO8P3MXB93R3C9RWL  https://skills.emsidata.com/skills/KS7LO8P3MXB...   \n",
       "4  KS122VT6S2JJ5C5D80NF  https://skills.emsidata.com/skills/KS122VT6S2J...   \n",
       "5  KS1261Z68KSKR1X31KS3  https://skills.emsidata.com/skills/KS1261Z68KS...   \n",
       "6  KS123GK6Z30G7QTFCY4N  https://skills.emsidata.com/skills/KS123GK6Z30...   \n",
       "7  KS124DQ6JX0NX9DBFDM8  https://skills.emsidata.com/skills/KS124DQ6JX0...   \n",
       "8  KS440W865GC4VRBW6LJP  https://skills.emsidata.com/skills/KS440W865GC...   \n",
       "9  KS7G0C36YW29VS8KPC05  https://skills.emsidata.com/skills/KS7G0C36YW2...   \n",
       "\n",
       "                          name type.id          type.name  \n",
       "0     C (Programming Language)     ST1  Specialized Skill  \n",
       "1    C# (Programming Language)     ST1  Specialized Skill  \n",
       "2   C++ (Programming Language)     ST1  Specialized Skill  \n",
       "3                 Data Science     ST1  Specialized Skill  \n",
       "4                        Linux     ST1  Specialized Skill  \n",
       "5             Machine Learning     ST1  Specialized Skill  \n",
       "6  Perl (Programming Language)     ST1  Specialized Skill  \n",
       "7     R (Programming Language)     ST1  Specialized Skill  \n",
       "8   SQL (Programming Language)     ST1  Specialized Skill  \n",
       "9                    Scripting     ST1  Specialized Skill  "
      ]
     },
     "execution_count": 10,
     "metadata": {},
     "output_type": "execute_result"
    }
   ],
   "source": [
    "# Skills IDs to find related skills to:\n",
    "# Python (Programming Language): KS125LS6N7WP4S6SFTCK\n",
    "# Transact-SQL: KS441H25X1LXDV8C9R0W\n",
    "\n",
    "\n",
    "url = \"https://emsiservices.com/skills/versions/latest/related\"\n",
    "\n",
    "payload = \"{ \\\"ids\\\": [ \\\"KS125LS6N7WP4S6SFTCK\\\", \\\"KS441H25X1LXDV8C9R0W\\\" ] }\"\n",
    "headers = {\n",
    "    'authorization': \"Bearer \" + access_token,\n",
    "    'content-type': \"application/json\"\n",
    "    }\n",
    "\n",
    "response = session.request(\"POST\", url, data=payload, headers=headers)\n",
    "related_skills_df = pd.DataFrame(json_normalize(response.json()['data']))\n",
    "\n",
    "related_skills_df"
   ]
  },
  {
   "cell_type": "code",
   "execution_count": null,
   "id": "3d4c8824",
   "metadata": {},
   "outputs": [],
   "source": []
  }
 ],
 "metadata": {
  "kernelspec": {
   "display_name": "Python 3 (ipykernel)",
   "language": "python",
   "name": "python3"
  },
  "language_info": {
   "codemirror_mode": {
    "name": "ipython",
    "version": 3
   },
   "file_extension": ".py",
   "mimetype": "text/x-python",
   "name": "python",
   "nbconvert_exporter": "python",
   "pygments_lexer": "ipython3",
   "version": "3.11.3"
  }
 },
 "nbformat": 4,
 "nbformat_minor": 5
}
